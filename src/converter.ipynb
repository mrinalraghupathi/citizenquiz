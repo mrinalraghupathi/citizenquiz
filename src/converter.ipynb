{
 "cells": [
  {
   "cell_type": "code",
   "execution_count": 1,
   "metadata": {},
   "outputs": [],
   "source": [
    "import csv\n",
    "import json\n",
    "\n",
    "csv_file_path = 'civics_questions.csv'\n",
    "json_file_path = 'civics_questions.json'\n",
    "\n",
    "# Read CSV and convert to a list of dictionaries\n",
    "data = []\n",
    "with open(csv_file_path, 'r', encoding='utf-8') as csv_file:\n",
    "    reader = csv.DictReader(csv_file)\n",
    "    for row in reader:\n",
    "        data.append(row)\n",
    "\n",
    "# Write the list of dictionaries to a JSON file\n",
    "with open(json_file_path, 'w', encoding='utf-8') as json_file:\n",
    "    json.dump(data, json_file, ensure_ascii=False, indent=2)\n"
   ]
  }
 ],
 "metadata": {
  "kernelspec": {
   "display_name": "base",
   "language": "python",
   "name": "python3"
  },
  "language_info": {
   "codemirror_mode": {
    "name": "ipython",
    "version": 3
   },
   "file_extension": ".py",
   "mimetype": "text/x-python",
   "name": "python",
   "nbconvert_exporter": "python",
   "pygments_lexer": "ipython3",
   "version": "3.10.8"
  },
  "orig_nbformat": 4,
  "vscode": {
   "interpreter": {
    "hash": "09c4c3bf5b22bf759547299454a9c0a7e221dfd0555c4514c1890b8fbf38377d"
   }
  }
 },
 "nbformat": 4,
 "nbformat_minor": 2
}
